{
  "cells": [
    {
      "cell_type": "code",
      "execution_count": 10,
      "metadata": {
        "id": "3YOZHJRGdjU5"
      },
      "outputs": [],
      "source": [
        "import os\n",
        "import cv2\n",
        "import numpy as np\n"
      ]
    },
    {
      "attachments": {},
      "cell_type": "markdown",
      "metadata": {
        "id": "HMm7tQgxeQSg"
      },
      "source": [
        "#splitting data into Train/Test"
      ]
    },
    {
      "cell_type": "code",
      "execution_count": 11,
      "metadata": {
        "id": "3F_zonGCeMA5"
      },
      "outputs": [],
      "source": [
        "from sklearn.preprocessing import LabelEncoder\n",
        "from tensorflow.keras.utils import to_categorical\n",
        "from sklearn.model_selection import train_test_split"
      ]
    },
    {
      "attachments": {},
      "cell_type": "markdown",
      "metadata": {
        "id": "KMjLCqQThdbV"
      },
      "source": [
        "**Tensorflow Keras CNN Model**"
      ]
    },
    {
      "cell_type": "code",
      "execution_count": 17,
      "metadata": {
        "id": "f_bJZQz7ho9V"
      },
      "outputs": [],
      "source": [
        "from tensorflow.keras.models import Sequential\n",
        "from tensorflow.keras.layers import Dense,Dropout,Flatten, Activation, Conv2D,MaxPooling2D\n",
        "from tensorflow.keras.preprocessing.image import ImageDataGenerator\n",
        "from tensorflow.keras.optimizers import Adam, SGD, Adagrad, Adadelta,RMSprop\n"
      ]
    },
    {
      "cell_type": "code",
      "execution_count": 19,
      "metadata": {
        "id": "1upeVVt6jA7B"
      },
      "outputs": [],
      "source": [
        "import matplotlib.pyplot as plt\n",
        "folder_dir='flowers'"
      ]
    },
    {
      "cell_type": "code",
      "execution_count": null,
      "metadata": {
        "id": "0jDoDmIhlNca"
      },
      "outputs": [],
      "source": [
        "import os\n",
        "import cv2\n",
        "\n",
        "data = []\n",
        "label = []\n",
        "\n",
        "SIZE = 128  \n",
        "\n",
        "for folder in os.listdir(folder_dir):\n",
        "    folder_path = os.path.join(folder_dir, folder)\n",
        "    if not os.path.isdir(folder_path):\n",
        "        continue\n",
        "\n",
        "    for file in os.listdir(folder_path):\n",
        "        if file.endswith(\"jpg\"):\n",
        "            label.append(folder)\n",
        "            img = cv2.imread(os.path.join(folder_path, file))\n",
        "            img_rgb = cv2.cvtColor(img, cv2.COLOR_BGR2RGB)\n",
        "            im = cv2.resize(img_rgb, (SIZE, SIZE))\n",
        "            data.append(im)\n",
        "        else:\n",
        "            continue\n"
      ]
    },
    {
      "cell_type": "code",
      "execution_count": 18,
      "metadata": {
        "id": "zkjI5996mn5X"
      },
      "outputs": [],
      "source": [
        "data_arr=np.array(data)\n",
        "label_arr=np.array(label)\n",
        "encoder=LabelEncoder()\n",
        "y=encoder.fit_transform(label_arr)\n",
        "y=to_categorical(y,5)\n",
        "X=data_arr/25\n",
        "X_train, X_test, y_train, y_test = train_test_split(X, y, test_size=0.20, random_state=10)"
      ]
    },
    {
      "cell_type": "code",
      "execution_count": 19,
      "metadata": {
        "id": "FybqN4L3no8N"
      },
      "outputs": [],
      "source": [
        "model = Sequential()\n",
        "model.add(Conv2D(filters = 64, kernel_size = (3,3),padding = 'Same',activation ='relu', input_shape = (SIZE,SIZE,3)))\n",
        "model.add(MaxPooling2D(pool_size=(2,2)))\n",
        "\n",
        "model.add(Conv2D(filters = 128, kernel_size = (3,3),padding = 'Same',activation ='relu'))\n",
        "model.add(Conv2D(filters = 128, kernel_size = (3,3),padding = 'Same',activation ='relu'))\n",
        "model.add(Conv2D(filters = 128, kernel_size = (3,3),padding = 'Same',activation ='relu'))\n",
        "model.add(MaxPooling2D(pool_size=(2,2)))\n",
        "\n",
        "model.add(Flatten())\n",
        "model.add(Dense(128, activation='relu'))\n",
        "model.add(Dense(64, activation='relu'))\n",
        "model.add(Dropout(rate=0.5))\n",
        "model.add(Dense(5, activation = \"softmax\"))"
      ]
    },
    {
      "cell_type": "code",
      "execution_count": 20,
      "metadata": {
        "id": "eVm_tPxynuXC"
      },
      "outputs": [],
      "source": [
        "datagen = ImageDataGenerator(\n",
        "        rotation_range=20,\n",
        "        zoom_range = 0.20,\n",
        "        width_shift_range=0.3,\n",
        "        height_shift_range=0.3,\n",
        "        horizontal_flip=True,\n",
        "        vertical_flip=True)\n",
        "\n",
        "datagen.fit(X_train)"
      ]
    },
    {
      "cell_type": "code",
      "execution_count": null,
      "metadata": {
        "colab": {
          "base_uri": "https://localhost:8080/"
        },
        "id": "ftc1KvvWnvvy",
        "outputId": "06003fda-0ad9-4a52-f606-ad6d58105340"
      },
      "outputs": [
        {
          "name": "stderr",
          "output_type": "stream",
          "text": [
            "WARNING:absl:`lr` is deprecated in Keras optimizer, please use `learning_rate` or use the legacy optimizer, e.g.,tf.keras.optimizers.legacy.Adam.\n",
            "<ipython-input-21-ed2bcf72189a>:4: UserWarning: `Model.fit_generator` is deprecated and will be removed in a future version. Please use `Model.fit`, which supports generators.\n",
            "  history = model.fit_generator(datagen.flow(X_train,y_train, batch_size=batch_size),\n"
          ]
        },
        {
          "name": "stdout",
          "output_type": "stream",
          "text": [
            "Epoch 1/64\n",
            "21/21 [==============================] - 188s 9s/step - loss: 2.6406 - accuracy: 0.8587 - val_loss: 0.2906 - val_accuracy: 0.9321\n",
            "Epoch 2/64\n",
            "21/21 [==============================] - 190s 9s/step - loss: 0.4204 - accuracy: 0.8789 - val_loss: 0.2302 - val_accuracy: 0.9321\n",
            "Epoch 3/64\n",
            "21/21 [==============================] - 191s 9s/step - loss: 0.4074 - accuracy: 0.8991 - val_loss: 0.1971 - val_accuracy: 0.9321\n",
            "Epoch 4/64\n",
            "21/21 [==============================] - 174s 8s/step - loss: 0.2825 - accuracy: 0.9022 - val_loss: 0.3084 - val_accuracy: 0.9321\n",
            "Epoch 5/64\n",
            "21/21 [==============================] - 175s 8s/step - loss: 0.3610 - accuracy: 0.9037 - val_loss: 0.1882 - val_accuracy: 0.9321\n",
            "Epoch 6/64\n",
            "21/21 [==============================] - 185s 9s/step - loss: 0.2882 - accuracy: 0.9022 - val_loss: 0.2102 - val_accuracy: 0.9321\n",
            "Epoch 7/64\n",
            "21/21 [==============================] - 179s 9s/step - loss: 0.2505 - accuracy: 0.9037 - val_loss: 0.2688 - val_accuracy: 0.9321\n",
            "Epoch 8/64\n",
            "21/21 [==============================] - 181s 9s/step - loss: 0.2952 - accuracy: 0.9006 - val_loss: 0.2267 - val_accuracy: 0.9321\n",
            "Epoch 9/64\n",
            "21/21 [==============================] - 173s 8s/step - loss: 0.3117 - accuracy: 0.9037 - val_loss: 0.1744 - val_accuracy: 0.9321\n",
            "Epoch 10/64\n",
            "21/21 [==============================] - 167s 8s/step - loss: 0.2810 - accuracy: 0.9037 - val_loss: 0.2059 - val_accuracy: 0.9321\n",
            "Epoch 11/64\n",
            "21/21 [==============================] - 175s 8s/step - loss: 0.2358 - accuracy: 0.9037 - val_loss: 0.2711 - val_accuracy: 0.9321\n",
            "Epoch 12/64\n",
            "21/21 [==============================] - 172s 8s/step - loss: 0.2513 - accuracy: 0.9037 - val_loss: 0.2311 - val_accuracy: 0.9321\n",
            "Epoch 13/64\n",
            "21/21 [==============================] - 179s 9s/step - loss: 0.2325 - accuracy: 0.9037 - val_loss: 0.1860 - val_accuracy: 0.9321\n",
            "Epoch 14/64\n",
            "21/21 [==============================] - 175s 8s/step - loss: 0.2051 - accuracy: 0.9037 - val_loss: 0.2039 - val_accuracy: 0.9321\n",
            "Epoch 15/64\n",
            "21/21 [==============================] - 174s 8s/step - loss: 0.2206 - accuracy: 0.9037 - val_loss: 0.2981 - val_accuracy: 0.9321\n",
            "Epoch 16/64\n",
            "21/21 [==============================] - 174s 8s/step - loss: 0.2604 - accuracy: 0.9068 - val_loss: 0.1716 - val_accuracy: 0.9321\n",
            "Epoch 17/64\n",
            "21/21 [==============================] - 175s 8s/step - loss: 0.2324 - accuracy: 0.9053 - val_loss: 0.2605 - val_accuracy: 0.9321\n",
            "Epoch 18/64\n",
            "21/21 [==============================] - 174s 8s/step - loss: 0.2443 - accuracy: 0.9130 - val_loss: 0.1893 - val_accuracy: 0.9321\n",
            "Epoch 19/64\n",
            "21/21 [==============================] - 163s 8s/step - loss: 0.2516 - accuracy: 0.9068 - val_loss: 0.1936 - val_accuracy: 0.9321\n",
            "Epoch 20/64\n",
            "21/21 [==============================] - 162s 8s/step - loss: 0.2214 - accuracy: 0.9130 - val_loss: 0.2185 - val_accuracy: 0.9321\n",
            "Epoch 21/64\n",
            "21/21 [==============================] - 171s 8s/step - loss: 0.2114 - accuracy: 0.9208 - val_loss: 0.1802 - val_accuracy: 0.9198\n",
            "Epoch 22/64\n",
            "21/21 [==============================] - 172s 8s/step - loss: 0.2986 - accuracy: 0.9084 - val_loss: 0.2131 - val_accuracy: 0.9321\n",
            "Epoch 23/64\n",
            "21/21 [==============================] - 178s 8s/step - loss: 0.5567 - accuracy: 0.9099 - val_loss: 0.2501 - val_accuracy: 0.9321\n",
            "Epoch 24/64\n",
            "21/21 [==============================] - 170s 8s/step - loss: 0.3783 - accuracy: 0.8866 - val_loss: 0.5633 - val_accuracy: 0.6790\n",
            "Epoch 25/64\n",
            "21/21 [==============================] - 162s 8s/step - loss: 0.3766 - accuracy: 0.8960 - val_loss: 0.2100 - val_accuracy: 0.9321\n",
            "Epoch 26/64\n",
            "21/21 [==============================] - 171s 8s/step - loss: 0.2656 - accuracy: 0.9068 - val_loss: 0.2144 - val_accuracy: 0.9321\n",
            "Epoch 27/64\n",
            "21/21 [==============================] - 171s 8s/step - loss: 0.2711 - accuracy: 0.9068 - val_loss: 0.2369 - val_accuracy: 0.9321\n",
            "Epoch 28/64\n",
            "21/21 [==============================] - 171s 8s/step - loss: 0.2852 - accuracy: 0.9084 - val_loss: 0.1993 - val_accuracy: 0.9321\n",
            "Epoch 29/64\n",
            "21/21 [==============================] - 161s 8s/step - loss: 0.2779 - accuracy: 0.9006 - val_loss: 0.1933 - val_accuracy: 0.9383\n",
            "Epoch 30/64\n",
            "21/21 [==============================] - 161s 8s/step - loss: 0.2365 - accuracy: 0.9068 - val_loss: 0.2384 - val_accuracy: 0.9321\n",
            "Epoch 31/64\n",
            "21/21 [==============================] - 162s 8s/step - loss: 0.2476 - accuracy: 0.9177 - val_loss: 0.2136 - val_accuracy: 0.9321\n",
            "Epoch 32/64\n",
            "21/21 [==============================] - 162s 8s/step - loss: 0.2375 - accuracy: 0.9255 - val_loss: 0.2129 - val_accuracy: 0.9321\n",
            "Epoch 33/64\n",
            "21/21 [==============================] - 172s 8s/step - loss: 0.2579 - accuracy: 0.9084 - val_loss: 0.2281 - val_accuracy: 0.9321\n",
            "Epoch 34/64\n",
            "21/21 [==============================] - 172s 8s/step - loss: 0.2071 - accuracy: 0.9161 - val_loss: 0.1834 - val_accuracy: 0.9383\n",
            "Epoch 35/64\n",
            "21/21 [==============================] - 172s 8s/step - loss: 0.2364 - accuracy: 0.9239 - val_loss: 0.2437 - val_accuracy: 0.9321\n",
            "Epoch 36/64\n",
            "21/21 [==============================] - 171s 8s/step - loss: 0.2213 - accuracy: 0.9177 - val_loss: 0.1706 - val_accuracy: 0.9321\n",
            "Epoch 37/64\n",
            "21/21 [==============================] - 171s 8s/step - loss: 0.2178 - accuracy: 0.9115 - val_loss: 0.1961 - val_accuracy: 0.9321\n",
            "Epoch 38/64\n",
            "21/21 [==============================] - 171s 8s/step - loss: 0.2107 - accuracy: 0.9317 - val_loss: 0.1729 - val_accuracy: 0.9321\n",
            "Epoch 39/64\n",
            "21/21 [==============================] - 172s 8s/step - loss: 0.2396 - accuracy: 0.9286 - val_loss: 0.1807 - val_accuracy: 0.9321\n",
            "Epoch 40/64\n",
            "21/21 [==============================] - 171s 8s/step - loss: 0.2401 - accuracy: 0.9115 - val_loss: 0.1827 - val_accuracy: 0.9321\n",
            "Epoch 41/64\n",
            "21/21 [==============================] - 172s 8s/step - loss: 0.2471 - accuracy: 0.9208 - val_loss: 0.1905 - val_accuracy: 0.9321\n",
            "Epoch 42/64\n",
            "21/21 [==============================] - 162s 8s/step - loss: 0.2063 - accuracy: 0.9146 - val_loss: 0.2058 - val_accuracy: 0.9321\n",
            "Epoch 43/64\n",
            "21/21 [==============================] - 162s 8s/step - loss: 0.2219 - accuracy: 0.9177 - val_loss: 0.1640 - val_accuracy: 0.9383\n",
            "Epoch 44/64\n",
            "21/21 [==============================] - 173s 8s/step - loss: 0.2158 - accuracy: 0.9255 - val_loss: 0.1524 - val_accuracy: 0.9444\n",
            "Epoch 45/64\n",
            "21/21 [==============================] - 172s 8s/step - loss: 0.2019 - accuracy: 0.9425 - val_loss: 0.1887 - val_accuracy: 0.9321\n",
            "Epoch 46/64\n",
            "21/21 [==============================] - 161s 8s/step - loss: 0.2119 - accuracy: 0.9115 - val_loss: 0.1703 - val_accuracy: 0.9383\n",
            "Epoch 47/64\n",
            "21/21 [==============================] - 170s 8s/step - loss: 0.1885 - accuracy: 0.9301 - val_loss: 0.1694 - val_accuracy: 0.9321\n",
            "Epoch 48/64\n",
            "21/21 [==============================] - 162s 8s/step - loss: 0.2039 - accuracy: 0.9301 - val_loss: 0.1861 - val_accuracy: 0.9259\n",
            "Epoch 49/64\n",
            "21/21 [==============================] - 161s 8s/step - loss: 0.2541 - accuracy: 0.9255 - val_loss: 0.1968 - val_accuracy: 0.9259\n",
            "Epoch 50/64\n",
            "21/21 [==============================] - 161s 8s/step - loss: 0.2461 - accuracy: 0.9208 - val_loss: 0.1885 - val_accuracy: 0.9321\n",
            "Epoch 51/64\n",
            "21/21 [==============================] - 163s 8s/step - loss: 0.2313 - accuracy: 0.9193 - val_loss: 0.1776 - val_accuracy: 0.9321\n",
            "Epoch 52/64\n",
            "21/21 [==============================] - 170s 8s/step - loss: 0.2290 - accuracy: 0.9286 - val_loss: 0.1614 - val_accuracy: 0.9321\n",
            "Epoch 53/64\n",
            "21/21 [==============================] - 170s 8s/step - loss: 0.2016 - accuracy: 0.9348 - val_loss: 0.2291 - val_accuracy: 0.9321\n",
            "Epoch 54/64\n",
            "21/21 [==============================] - 170s 8s/step - loss: 0.1995 - accuracy: 0.9317 - val_loss: 0.2074 - val_accuracy: 0.9321\n",
            "Epoch 55/64\n",
            "21/21 [==============================] - 170s 8s/step - loss: 0.1889 - accuracy: 0.9488 - val_loss: 0.2326 - val_accuracy: 0.9321\n",
            "Epoch 56/64\n",
            "21/21 [==============================] - 171s 8s/step - loss: 0.1923 - accuracy: 0.9317 - val_loss: 0.2781 - val_accuracy: 0.9321\n",
            "Epoch 57/64\n",
            "21/21 [==============================] - 170s 8s/step - loss: 0.2096 - accuracy: 0.9255 - val_loss: 0.2930 - val_accuracy: 0.9321\n",
            "Epoch 58/64\n",
            "21/21 [==============================] - 160s 8s/step - loss: 0.1989 - accuracy: 0.9301 - val_loss: 0.2561 - val_accuracy: 0.9383\n",
            "Epoch 59/64\n",
            "21/21 [==============================] - 170s 8s/step - loss: 0.1857 - accuracy: 0.9348 - val_loss: 0.1843 - val_accuracy: 0.9321\n",
            "Epoch 60/64\n",
            "21/21 [==============================] - 161s 8s/step - loss: 0.1707 - accuracy: 0.9410 - val_loss: 0.1772 - val_accuracy: 0.9383\n",
            "Epoch 61/64\n",
            "21/21 [==============================] - 161s 8s/step - loss: 0.1755 - accuracy: 0.9457 - val_loss: 0.1543 - val_accuracy: 0.9506\n",
            "Epoch 62/64\n",
            "21/21 [==============================] - 171s 8s/step - loss: 0.1811 - accuracy: 0.9348 - val_loss: 0.1918 - val_accuracy: 0.9321\n",
            "Epoch 63/64\n",
            "15/21 [====================>.........] - ETA: 44s - loss: 0.1900 - accuracy: 0.9271"
          ]
        }
      ],
      "source": [
        "model.compile(optimizer=Adam(lr=0.0001),loss='categorical_crossentropy',metrics=['accuracy'])\n",
        "batch_size=32\n",
        "epochs=64\n",
        "history = model.fit_generator(datagen.flow(X_train,y_train, batch_size=batch_size),\n",
        "                              epochs = epochs,\n",
        "                              validation_data = (X_test,y_test),\n",
        "                              verbose = 1)"
      ]
    },
    {
      "cell_type": "code",
      "execution_count": null,
      "metadata": {
        "id": "YVcgzLtpomNM"
      },
      "outputs": [],
      "source": [
        "categories = np.sort(os.listdir(folder_dir))\n",
        "fig, ax = plt.subplots(6,6, figsize=(25, 40))\n",
        "\n",
        "for i in range(6):\n",
        "    for j in range(6):\n",
        "        k = int(np.random.random_sample() * len(X_test))\n",
        "        if(categories[np.argmax(y_test[k])] == categories[np.argmax(model.predict(X_test)[k])]):\n",
        "            ax[i,j].set_title(\"TRUE: \" + categories[np.argmax(y_test[k])], color='green')\n",
        "            ax[i,j].set_xlabel(\"PREDICTED: \" + categories[np.argmax(model.predict(X_test)[k])], color='green')\n",
        "            ax[i,j].imshow(np.array(X_test)[k].reshape(SIZE, SIZE, 3), cmap='gray')\n",
        "        else:\n",
        "            ax[i,j].set_title(\"TRUE: \" + categories[np.argmax(y_test[k])], color='red')\n",
        "            ax[i,j].set_xlabel(\"PREDICTED: \" + categories[np.argmax(model.predict(X_test)[k])], color='red')\n",
        "            ax[i,j].imshow(np.array(X_test)[k].reshape(SIZE, SIZE, 3), cmap='gray')"
      ]
    }
  ],
  "metadata": {
    "colab": {
      "provenance": []
    },
    "kernelspec": {
      "display_name": "Python 3",
      "name": "python3"
    },
    "language_info": {
      "name": "python"
    }
  },
  "nbformat": 4,
  "nbformat_minor": 0
}
